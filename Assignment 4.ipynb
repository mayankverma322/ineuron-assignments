{
 "cells": [
  {
   "attachments": {},
   "cell_type": "markdown",
   "metadata": {},
   "source": [
    "#### 1. What exactly is []?"
   ]
  },
  {
   "attachments": {},
   "cell_type": "markdown",
   "metadata": {},
   "source": [
    "In Python, [] represents an empty list. It signifies a collection with no elements.\n"
   ]
  },
  {
   "attachments": {},
   "cell_type": "markdown",
   "metadata": {},
   "source": [
    "#### 2. In a list of values stored in a variable called spam, how would you assign the value &#39;hello&#39; as the third value? (Assume [2, 4, 6, 8, 10] are in spam.)"
   ]
  },
  {
   "cell_type": "code",
   "execution_count": 1,
   "metadata": {},
   "outputs": [
    {
     "data": {
      "text/plain": [
       "[2, 4, 'hello', 8, 10]"
      ]
     },
     "execution_count": 1,
     "metadata": {},
     "output_type": "execute_result"
    }
   ],
   "source": [
    "spam = [2, 4, 6, 8, 10]  # Original list\n",
    "spam[2] = 'hello'  # Assigning 'hello' at index 2\n",
    "spam"
   ]
  },
  {
   "attachments": {},
   "cell_type": "markdown",
   "metadata": {},
   "source": [
    "#### 3. What is the value of spam[int(int(&#39;3&#39; * 2) / 11)]?"
   ]
  },
  {
   "cell_type": "code",
   "execution_count": 2,
   "metadata": {},
   "outputs": [
    {
     "name": "stdout",
     "output_type": "stream",
     "text": [
      "d\n"
     ]
    }
   ],
   "source": [
    "spam = ['a', 'b', 'c', 'd']\n",
    "value = spam[int(int('3' * 2) / 11)]\n",
    "print(value)\n"
   ]
  },
  {
   "attachments": {},
   "cell_type": "markdown",
   "metadata": {},
   "source": [
    "#### 4. What is the value of spam[-1]?"
   ]
  },
  {
   "cell_type": "code",
   "execution_count": 3,
   "metadata": {},
   "outputs": [
    {
     "name": "stdout",
     "output_type": "stream",
     "text": [
      "d\n"
     ]
    }
   ],
   "source": [
    "spam = ['a', 'b', 'c', 'd']\n",
    "value_4 = spam[-1]\n",
    "print(value_4)  # Output: 'd'"
   ]
  },
  {
   "attachments": {},
   "cell_type": "markdown",
   "metadata": {},
   "source": [
    "#### 5. What is the value of spam[:2]?"
   ]
  },
  {
   "cell_type": "code",
   "execution_count": 4,
   "metadata": {},
   "outputs": [
    {
     "name": "stdout",
     "output_type": "stream",
     "text": [
      "['a', 'b']\n"
     ]
    }
   ],
   "source": [
    "spam = ['a', 'b', 'c', 'd']\n",
    "\n",
    "value_5 = spam[:2]\n",
    "print(value_5)  # Output: ['a', 'b']"
   ]
  },
  {
   "attachments": {},
   "cell_type": "markdown",
   "metadata": {},
   "source": [
    "#### Let&#39;s pretend bacon has the list [3.14, &#39;cat,&#39; 11, &#39;cat,&#39; True] for the next three questions.<br>6. What is the value of bacon.index(&#39;cat&#39;)?<br>7. How does bacon.append(99) change the look of the list value in bacon?<br>8. How does bacon.remove(&#39;cat&#39;) change the look of the list in bacon?"
   ]
  },
  {
   "cell_type": "code",
   "execution_count": 5,
   "metadata": {},
   "outputs": [
    {
     "name": "stdout",
     "output_type": "stream",
     "text": [
      "1\n",
      "[3.14, 'cat', 11, 'cat', True, 99]\n",
      "[3.14, 11, 'cat', True, 99]\n"
     ]
    }
   ],
   "source": [
    "bacon = [3.14, 'cat', 11, 'cat', True]\n",
    "\n",
    "# Question 6\n",
    "value_6 = bacon.index('cat')\n",
    "print(value_6)  # Output: 1\n",
    "\n",
    "# Question 7\n",
    "bacon.append(99)\n",
    "print(bacon)  # Output: [3.14, 'cat', 11, 'cat', True, 99]\n",
    "\n",
    "# Question 8\n",
    "bacon.remove('cat')\n",
    "print(bacon)  # Output: [3.14, 11, 'cat', True, 99]"
   ]
  },
  {
   "attachments": {},
   "cell_type": "markdown",
   "metadata": {},
   "source": [
    "#### 9. What are the list concatenation and list replication operators?"
   ]
  },
  {
   "attachments": {},
   "cell_type": "markdown",
   "metadata": {},
   "source": [
    "The list concatenation operator in Python is +, and the list replication operator is *. Here are the Python snippets to demonstrate their usage:"
   ]
  },
  {
   "cell_type": "code",
   "execution_count": 6,
   "metadata": {},
   "outputs": [
    {
     "name": "stdout",
     "output_type": "stream",
     "text": [
      "[1, 2, 3, 4, 5, 6]\n"
     ]
    }
   ],
   "source": [
    "# List concatenation:\n",
    "list1 = [1, 2, 3]\n",
    "list2 = [4, 5, 6]\n",
    "concatenated_list = list1 + list2\n",
    "print(concatenated_list)  # Output: [1, 2, 3, 4, 5, 6]"
   ]
  },
  {
   "cell_type": "code",
   "execution_count": 7,
   "metadata": {},
   "outputs": [
    {
     "name": "stdout",
     "output_type": "stream",
     "text": [
      "[1, 2, 3, 1, 2, 3, 1, 2, 3]\n"
     ]
    }
   ],
   "source": [
    "# List replication:\n",
    "list3 = [1, 2, 3]\n",
    "replicated_list = list3 * 3\n",
    "print(replicated_list)  # Output: [1, 2, 3, 1, 2, 3, 1, 2, 3]"
   ]
  },
  {
   "attachments": {},
   "cell_type": "markdown",
   "metadata": {},
   "source": [
    "#### 10. What is difference between the list methods append() and insert()?"
   ]
  },
  {
   "attachments": {},
   "cell_type": "markdown",
   "metadata": {},
   "source": [
    "The append() method is used to add an element to the end of a list, while the insert() method is used to insert an element at a specific position in a list. Here are the Python snippets to demonstrate their usage:"
   ]
  },
  {
   "cell_type": "code",
   "execution_count": 8,
   "metadata": {},
   "outputs": [
    {
     "name": "stdout",
     "output_type": "stream",
     "text": [
      "[1, 2, 3, 4]\n",
      "[1, 'a', 2, 3]\n"
     ]
    }
   ],
   "source": [
    "# append() method:\n",
    "my_list = [1, 2, 3]\n",
    "my_list.append(4)\n",
    "print(my_list)  # Output: [1, 2, 3, 4]\n",
    "\n",
    "# insert() method:\n",
    "my_list = [1, 2, 3]\n",
    "my_list.insert(1, 'a')\n",
    "print(my_list)  # Output: [1, 'a', 2, 3]"
   ]
  },
  {
   "attachments": {},
   "cell_type": "markdown",
   "metadata": {},
   "source": [
    "In the first snippet, the append() method adds the value 4 to the end of my_list.\n",
    "\n",
    "In the second snippet, the insert() method inserts the value 'a' at index 1 in my_list, causing the other elements to shift to the right."
   ]
  },
  {
   "attachments": {},
   "cell_type": "markdown",
   "metadata": {},
   "source": [
    "#### 11. What are the two methods for removing items from a list?"
   ]
  },
  {
   "attachments": {},
   "cell_type": "markdown",
   "metadata": {},
   "source": [
    "The two methods commonly used to remove items from a list in Python are remove() and pop(). Here are the Python snippets to demonstrate their usage:"
   ]
  },
  {
   "cell_type": "code",
   "execution_count": 10,
   "metadata": {},
   "outputs": [
    {
     "name": "stdout",
     "output_type": "stream",
     "text": [
      "[1, 3, 2, 4]\n",
      "[1, 3]\n",
      "2\n"
     ]
    }
   ],
   "source": [
    "# remove() method: In this snippet, the remove() method removes the first occurrence of the value 2 from my_list.\n",
    "\n",
    "my_list = [1, 2, 3, 2, 4]\n",
    "my_list.remove(2)\n",
    "print(my_list)  # Output: [1, 3, 2, 4]\n",
    "\n",
    "# pop() method: In this snippet, the pop() method removes and returns the element at index 1 from my_list, which is 2. The modified list without the popped element is printed, and the popped element itself is also printed.\n",
    "\n",
    "my_list = [1, 2, 3]\n",
    "popped_element = my_list.pop(1)\n",
    "print(my_list)  # Output: [1, 3]\n",
    "print(popped_element)  # Output: 2\n"
   ]
  },
  {
   "attachments": {},
   "cell_type": "markdown",
   "metadata": {},
   "source": [
    "#### 12. Describe how list values and string values are identical."
   ]
  },
  {
   "attachments": {},
   "cell_type": "markdown",
   "metadata": {},
   "source": [
    "List values and string values in Python share some similarities and can be described as follows:\n",
    "\n",
    "Sequence Data Type: Both lists and strings are sequence data types. They store a collection of elements that can be accessed by their indices.\n",
    "\n",
    "Indexing: Elements in both lists and strings can be accessed using indexing. Each element has a specific index position, starting from 0 for the first element.\n",
    "\n",
    "Slicing: Both lists and strings support slicing, allowing you to extract a portion of the sequence. Slicing allows you to create a new list or string containing a subset of elements.\n",
    "\n",
    "Iteration: You can iterate over both lists and strings using loops. This enables you to access and operate on each element of the sequence one at a time.\n",
    "\n",
    "Immutable vs Mutable: Strings are immutable, which means their individual characters cannot be modified once they are created. Similarly, the elements in a tuple (another sequence type) are also immutable. On the other hand, lists are mutable, allowing you to modify, add, or remove elements.\n",
    "\n",
    "Despite these similarities, there are also important differences between lists and strings. Lists are heterogeneous, meaning they can contain elements of different data types, while strings are homogeneous, containing only characters. Additionally, lists have methods specific to their mutable nature, such as append(), remove(), and sort(), whereas strings have methods for string-specific operations like finding substrings or converting case."
   ]
  },
  {
   "attachments": {},
   "cell_type": "markdown",
   "metadata": {},
   "source": [
    "#### 13. What&#39;s the difference between tuples and lists?"
   ]
  },
  {
   "attachments": {},
   "cell_type": "markdown",
   "metadata": {},
   "source": [
    "Tuples and lists in Python are both used to store collections of elements, but they have some key differences:\n",
    "\n",
    "- Mutability: Lists are mutable, meaning you can modify, add, or remove elements after the list is created. In contrast, tuples are immutable, and their elements cannot be changed once the tuple is defined.\n",
    "\n",
    "- Syntax: Lists are defined using square brackets [ ], while tuples are defined using parentheses ( ). For example: <br> List: my_list = [1, 2, 3] <br> Tuple: my_tuple = (1, 2, 3)\n",
    "\n",
    "- Usage: Lists are commonly used when you need a collection of items that can be modified or updated dynamically. Tuples, on the other hand, are often used for grouping related data together that shouldn't be changed, such as coordinates, database records, or function return values.\n",
    "\n",
    "- Performance: Tuples are generally more memory-efficient and faster to access than lists. Since tuples are immutable, Python can optimize their memory usage. Lists, being mutable, may require more memory and have slightly slower performance due to the possibility of resizing and modifying the list.\n",
    "\n",
    "- Methods: Lists have a variety of built-in methods, such as append(), remove(), and sort(), which allow for easy modification and manipulation. Tuples, being immutable, have fewer methods available and are more limited in terms of operations.\n",
    "\n",
    "- In summary, lists are mutable, commonly used for dynamic collections, and have more built-in methods. Tuples are immutable, used for fixed data, and have better performance and memory efficiency.\n",
    "\n",
    "\n",
    "\n",
    "\n",
    "\n",
    "\n"
   ]
  },
  {
   "attachments": {},
   "cell_type": "markdown",
   "metadata": {},
   "source": [
    "#### 14. How do you type a tuple value that only contains the integer 42?"
   ]
  },
  {
   "attachments": {},
   "cell_type": "markdown",
   "metadata": {},
   "source": [
    "To create a tuple value that only contains the integer 42, you can use parentheses and separate the value with a comma. Here's how you would type it in Python:"
   ]
  },
  {
   "cell_type": "code",
   "execution_count": 11,
   "metadata": {},
   "outputs": [],
   "source": [
    "my_tuple = (42,)"
   ]
  },
  {
   "attachments": {},
   "cell_type": "markdown",
   "metadata": {},
   "source": [
    "In this example, the comma after the integer 42 is important to indicate that it is a tuple with a single element. Without the comma, Python would interpret it as an integer rather than a tuple. The parentheses enclose the value and define it as a tuple.\n",
    "\n",
    "Now, my_tuple is a tuple with a single element, which is the integer 42."
   ]
  },
  {
   "attachments": {},
   "cell_type": "markdown",
   "metadata": {},
   "source": [
    "#### 15. How do you get a list value&#39;s tuple form? How do you get a tuple value&#39;s list form?"
   ]
  },
  {
   "cell_type": "code",
   "execution_count": 12,
   "metadata": {},
   "outputs": [],
   "source": [
    "# To convert a list to a tuple:\n",
    "my_list = [1, 2, 3]\n",
    "my_tuple = tuple(my_list)\n",
    "\n",
    "#To convert a tuple to a list:\n",
    "my_tuple = (1, 2, 3)\n",
    "my_list = list(my_tuple)"
   ]
  },
  {
   "attachments": {},
   "cell_type": "markdown",
   "metadata": {},
   "source": [
    "#### 16. Variables that &quot;contain&quot; list values are not necessarily lists themselves. Instead, what do they contain?"
   ]
  },
  {
   "attachments": {},
   "cell_type": "markdown",
   "metadata": {},
   "source": [
    "\n",
    "Variables that \"contain\" list values in Python actually store references to the list objects. Here's a short snippet to illustrate this:"
   ]
  },
  {
   "cell_type": "code",
   "execution_count": 13,
   "metadata": {},
   "outputs": [
    {
     "name": "stdout",
     "output_type": "stream",
     "text": [
      "[1, 2, 3, 4]\n"
     ]
    }
   ],
   "source": [
    "my_list = [1, 2, 3]\n",
    "another_list = my_list\n",
    "\n",
    "my_list.append(4)\n",
    "print(another_list)  # Output: [1, 2, 3, 4]"
   ]
  },
  {
   "attachments": {},
   "cell_type": "markdown",
   "metadata": {},
   "source": [
    "In this snippet, my_list and another_list both refer to the same list object. When we modify my_list by appending 4 to it, the change is also reflected in another_list.\n",
    "\n",
    "This behavior highlights that variables storing list values contain references to the underlying list objects rather than the actual list elements."
   ]
  },
  {
   "attachments": {},
   "cell_type": "markdown",
   "metadata": {},
   "source": [
    "#### 17. How do you distinguish between copy.copy() and copy.deepcopy()?"
   ]
  },
  {
   "attachments": {},
   "cell_type": "markdown",
   "metadata": {},
   "source": [
    "- copy.copy() creates a shallow copy of an object, preserving references to the original object's elements.\n",
    "\n",
    "- copy.deepcopy() creates a deep copy of an object, recursively copying all nested objects to create independent copies."
   ]
  }
 ],
 "metadata": {
  "kernelspec": {
   "display_name": "Python 3",
   "language": "python",
   "name": "python3"
  },
  "language_info": {
   "codemirror_mode": {
    "name": "ipython",
    "version": 3
   },
   "file_extension": ".py",
   "mimetype": "text/x-python",
   "name": "python",
   "nbconvert_exporter": "python",
   "pygments_lexer": "ipython3",
   "version": "3.10.9"
  },
  "orig_nbformat": 4
 },
 "nbformat": 4,
 "nbformat_minor": 2
}
