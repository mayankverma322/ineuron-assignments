{
 "cells": [
  {
   "cell_type": "markdown",
   "metadata": {},
   "source": [
    "#### 1. In the below elements which of them are values or an expression? eg:- values can be integer or string and expressions will be mathematical operators."
   ]
  },
  {
   "cell_type": "markdown",
   "metadata": {},
   "source": [
    "Values:\n",
    "\n",
    "* 'hello' (string)\n",
    "* -87.8 (float)\n",
    "* 6 (integer)\n",
    "\n",
    "\n",
    "Expressions:\n",
    "\n",
    "* *(multiplication operator)\n",
    "* -(subtraction operator)\n",
    "* /(division operator)\n",
    "* +(addition operator)"
   ]
  },
  {
   "cell_type": "markdown",
   "metadata": {},
   "source": [
    "#### 2. What is the difference between string and variable?"
   ]
  },
  {
   "cell_type": "markdown",
   "metadata": {},
   "source": [
    "* **String:** A string is a data type that represents a sequence of characters. It is used to store and manipulate textual data. In programming languages, strings are typically enclosed in quotation marks (single or double).\n",
    "\n",
    "* **Variable:** A variable is a named storage location that holds a value. It is used to store and manipulate data within a program. Variables can hold different types of data, including strings, numbers, boolean values, and more. Variables are created and assigned values using an assignment operator (=). "
   ]
  },
  {
   "cell_type": "markdown",
   "metadata": {},
   "source": [
    "#### 3. Describe three different data types."
   ]
  },
  {
   "cell_type": "markdown",
   "metadata": {},
   "source": [
    "**Integer (int):** The integer data type represents whole numbers without any fractional or decimal parts. Integers can be positive or negative. For example, 1, -5, and 0 are integers. In most programming languages, integers are typically used for tasks that involve counting or indexing.\n",
    "\n",
    "**String (str):** The string data type is used to represent sequences of characters, such as letters, digits, and symbols. Strings are typically used to store textual data. They are enclosed in quotation marks (single or double). For example, \"Hello, World!\" and \"12345\" are strings. You can perform various operations on strings, such as concatenation (joining), slicing, and searching.\n",
    "\n",
    "**Boolean (bool):** The boolean data type has only two possible values: True or False. Booleans are often used in logical operations and conditional statements. They are useful for making decisions and controlling the flow of a program. For example, a boolean variable can store the result of a comparison, such as whether a condition is true or false."
   ]
  },
  {
   "cell_type": "markdown",
   "metadata": {},
   "source": [
    "#### 4. What is an expression made up of? What do all expressions do?"
   ]
  },
  {
   "cell_type": "markdown",
   "metadata": {},
   "source": [
    "An expression is like a set of instructions for a computer. It combines ingredients (values and variables) with operations to perform calculations or make decisions. Just as a recipe uses ingredients and steps to create a dish, an expression uses values, variables, and operations to produce a result. It's a way of telling the computer what to do with information. By following the steps in an expression, you can get a final outcome, like a number or a yes/no answer. Expressions are fundamental in programming and allow us to manipulate data and control program flow."
   ]
  },
  {
   "cell_type": "markdown",
   "metadata": {},
   "source": [
    "#### 5. This assignment statements, like spam = 10. What is the difference between an expression and a statement?"
   ]
  },
  {
   "cell_type": "markdown",
   "metadata": {},
   "source": [
    "**Expression:**\n",
    "\n",
    "* An expression is a combination of values, variables, operators, and function calls that evaluates to a single value.\n",
    "* Expressions are used to compute or calculate values.\n",
    "* Examples of expressions: 2 + 3, x > y, len(\"Hello\").\n",
    "* Expressions can be used as part of a larger statement.\n",
    "\n",
    "**Statement:**\n",
    "* A statement is a complete line of code or an instruction that performs a specific action.\n",
    "* Statements are used to control the flow of a program, perform actions, or define behavior.\n",
    "* Examples of statements: assignment statements (spam = 10), conditional statements (if, else), loops (for, while), function definitions, and more.\n",
    "* Statements can contain expressions but are not limited to them."
   ]
  },
  {
   "cell_type": "markdown",
   "metadata": {},
   "source": [
    "#### 6. After running the following code, what does the variable bacon contain? bacon = 22 bacon + 1"
   ]
  },
  {
   "cell_type": "code",
   "execution_count": 2,
   "metadata": {},
   "outputs": [
    {
     "name": "stdout",
     "output_type": "stream",
     "text": [
      "22\n"
     ]
    }
   ],
   "source": [
    "bacon = 22\n",
    "bacon + 1\n",
    "print(bacon) #output: 22"
   ]
  },
  {
   "cell_type": "markdown",
   "metadata": {},
   "source": [
    "#### 7. What should the values of the following two terms be? \"spam\" +\"spamspam\" \"spam\" * 3"
   ]
  },
  {
   "cell_type": "code",
   "execution_count": 4,
   "metadata": {},
   "outputs": [
    {
     "name": "stdout",
     "output_type": "stream",
     "text": [
      "spamspamspam\n",
      "spamspamspam\n"
     ]
    }
   ],
   "source": [
    "print(\"spam\"+\"spamspam\")\n",
    "print(\"spam\"*3)"
   ]
  },
  {
   "cell_type": "markdown",
   "metadata": {},
   "source": [
    "#### 8. Why is eggs a valid variable name while 100 is invalid?"
   ]
  },
  {
   "cell_type": "markdown",
   "metadata": {},
   "source": [
    "In programming, variable names must adhere to certain rules and conventions. \"eggs\" is a valid variable name because it starts with a letter and contains only letters, digits, and underscores. However, \"100\" is invalid as it starts with a digit, which violates the rule that variable names must start with a letter or an underscore. Valid variable names help programmers identify and refer to specific values or data within their code."
   ]
  },
  {
   "cell_type": "markdown",
   "metadata": {},
   "source": [
    "#### 9. What three functions can be used to get the integer, floating-point number, or string version of a value?"
   ]
  },
  {
   "cell_type": "markdown",
   "metadata": {},
   "source": [
    "* **int():** Converts a value to an integer data type.\n",
    "\n",
    "**Example:** int(5.8) returns 5\n",
    "* **float():** Converts a value to a floating-point number data type.\n",
    "\n",
    "**Example:** float(\"3.14\") returns 3.14\n",
    "* **str():** Converts a value to a string data type.\n",
    "\n",
    "**Example:** str(42) returns \"42\""
   ]
  },
  {
   "cell_type": "markdown",
   "metadata": {},
   "source": [
    "#### 10. Why does this expression cause an error? How can you fix it? \"I have eaten\" + 99 + \"burritos.\""
   ]
  },
  {
   "cell_type": "markdown",
   "metadata": {},
   "source": [
    "The expression 'I have eaten ' + 99 + ' burritos.' causes an error because you are trying to concatenate a string ('I have eaten ') with an integer (99) directly. In many programming languages, including Python, concatenation between strings and integers is not allowed without explicit conversion."
   ]
  }
 ],
 "metadata": {
  "kernelspec": {
   "display_name": "Python 3 (ipykernel)",
   "language": "python",
   "name": "python3"
  },
  "language_info": {
   "codemirror_mode": {
    "name": "ipython",
    "version": 3
   },
   "file_extension": ".py",
   "mimetype": "text/x-python",
   "name": "python",
   "nbconvert_exporter": "python",
   "pygments_lexer": "ipython3",
   "version": "3.10.9"
  }
 },
 "nbformat": 4,
 "nbformat_minor": 2
}
