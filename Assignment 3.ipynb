{
 "cells": [
  {
   "attachments": {},
   "cell_type": "markdown",
   "metadata": {},
   "source": [
    "#### 1. Why are functions advantageous to have in your programs?"
   ]
  },
  {
   "attachments": {},
   "cell_type": "markdown",
   "metadata": {},
   "source": [
    "\n",
    "Functions are advantageous to have in Python programs (and in programming in general) for several reasons:\n",
    "\n",
    "- Modularity: Functions allow you to break down a complex program into smaller, more manageable and reusable chunks of code. This promotes modularity, making your code easier to read, understand, and maintain. By dividing your program into functions, you can focus on specific tasks or functionalities, making it easier to collaborate with others and update or modify your code in the future.\n",
    "\n",
    "- Code reuse: With functions, you can write a block of code once and reuse it multiple times throughout your program or in different programs. This saves you time and effort, as you don't need to rewrite the same code over and over again. Instead, you can simply call the function whenever you need to perform a particular task.\n",
    "\n",
    "- Abstraction: Functions allow you to abstract away complex implementation details. You can encapsulate a series of operations or computations within a function and provide a simple interface to interact with it. This abstraction simplifies the usage of code and hides the underlying complexity, making your programs more intuitive and easier to use.\n",
    "\n",
    "- Readability and organization: Functions improve the readability and organization of your code. By giving meaningful names to your functions, you make your code more self-explanatory and easier to understand. Functions also enable you to separate different parts of your program logically, creating a more structured and organized codebase.\n",
    "\n",
    "- Testing and debugging: Functions facilitate testing and debugging processes. Since functions encapsulate specific functionality, it becomes easier to isolate and test individual components of your program. You can write unit tests for functions, making it simpler to verify their correctness and identify potential issues. Additionally, when you encounter a bug or error, functions can help you localize the problem by narrowing down the scope of code you need to investigate.\n",
    "\n",
    "- Code efficiency: Functions can enhance code efficiency by promoting code reuse, as mentioned earlier. By using functions, you can avoid duplicating code and instead call a function whenever you need to perform a specific task. This reduces the overall size of your codebase and improves maintainability, as changes or optimizations only need to be made in one place."
   ]
  },
  {
   "attachments": {},
   "cell_type": "markdown",
   "metadata": {},
   "source": [
    "#### 2. When does the code in a function run: when it&#39;s specified or when it&#39;s called?"
   ]
  },
  {
   "attachments": {},
   "cell_type": "markdown",
   "metadata": {},
   "source": [
    "Imagine you have a recipe for making a cake. The recipe itself is like a function. It contains a set of instructions or steps that need to be followed to bake a delicious cake. But the cake doesn't magically appear as soon as you write down the recipe.\n",
    "\n",
    "Similarly, when you write a function in Python, you are creating a set of instructions or code that will be executed only when you \"call\" or \"invoke\" the function. Just like you need to actually make the cake by following the recipe, you need to call the function to make it run and perform its specific tasks.\n",
    "\n",
    "So, the code inside a function runs when you actually \"use\" or \"call\" the function in your program. Until you call the function, the code inside it remains idle and doesn't do anything. It's like having a recipe on the shelf—it won't make a cake until you follow the steps and bake it."
   ]
  },
  {
   "attachments": {},
   "cell_type": "markdown",
   "metadata": {},
   "source": [
    "#### 3. What statement creates a function?"
   ]
  },
  {
   "attachments": {},
   "cell_type": "markdown",
   "metadata": {},
   "source": [
    "Imagine you want to create a function called add_numbers that adds two numbers together. You can define the function using the def statement like this:"
   ]
  },
  {
   "cell_type": "code",
   "execution_count": 1,
   "metadata": {},
   "outputs": [
    {
     "name": "stdout",
     "output_type": "stream",
     "text": [
      "The sum is: 8\n"
     ]
    }
   ],
   "source": [
    "def add_numbers():\n",
    "    num1 = 5\n",
    "    num2 = 3\n",
    "    sum_result = num1 + num2\n",
    "    print(\"The sum is:\", sum_result)\n",
    "add_numbers()"
   ]
  },
  {
   "attachments": {},
   "cell_type": "markdown",
   "metadata": {},
   "source": [
    "In this example, the function add_numbers is defined using the def statement. Inside the function, we have some code that adds two numbers (num1 and num2) together and stores the result in a variable called sum_result. Then, we print the sum using print()."
   ]
  },
  {
   "attachments": {},
   "cell_type": "markdown",
   "metadata": {},
   "source": [
    "#### 4. What is the difference between a function and a function call?"
   ]
  },
  {
   "attachments": {},
   "cell_type": "markdown",
   "metadata": {},
   "source": [
    "\n",
    "The difference between a function and a function call lies in their respective roles and actions within a program.\n",
    "\n",
    "- Function: A function is a named block of code that performs a specific task or set of operations. It is defined using the def statement in Python and can accept input values (known as parameters or arguments) and optionally return a value. Functions are reusable and modular, allowing you to break down complex tasks into smaller, more manageable units. They are created to encapsulate a particular functionality and can be used multiple times throughout a program.\n",
    "\n",
    "- Function Call: A function call is the act of invoking or executing a function. It is the process of using a function by its name followed by parentheses () to trigger the execution of the code within the function. When you make a function call, the program jumps to the corresponding function definition, executes the code inside the function block, and then returns to the point where the function was called. During a function call, you can provide arguments (input values) to the function if it expects them."
   ]
  },
  {
   "attachments": {},
   "cell_type": "markdown",
   "metadata": {},
   "source": [
    "### 5. How many global scopes are there in a Python program? How many local scopes?"
   ]
  },
  {
   "attachments": {},
   "cell_type": "markdown",
   "metadata": {},
   "source": [
    "In a Python program, there is only one global scope, which is known as the global namespace. The global scope is the top-level scope in Python, and it represents the outermost level of the program. Variables, functions, and classes defined in the global scope are accessible throughout the entire program.\n",
    "\n",
    "On the other hand, the number of local scopes in a Python program can vary. A local scope, also known as a local namespace, is created whenever a function is called or when a block of code, such as a loop or conditional statement, is executed. Each function call or block execution creates a new local scope.\n",
    "\n",
    "In Python, local scopes follow a nested structure. This means that each local scope can access variables from its containing scope (e.g., an outer function or the global scope), but not vice versa. This concept is known as the \"scope hierarchy\" or \"scope chain.\""
   ]
  },
  {
   "attachments": {},
   "cell_type": "markdown",
   "metadata": {},
   "source": [
    "#### 6. What happens to variables in a local scope when the function call returns?"
   ]
  },
  {
   "attachments": {},
   "cell_type": "markdown",
   "metadata": {},
   "source": [
    "When a function call returns in Python, the variables defined within the local scope of that function are destroyed and no longer accessible. They cease to exist outside of the function."
   ]
  },
  {
   "cell_type": "code",
   "execution_count": null,
   "metadata": {},
   "outputs": [],
   "source": [
    "def my_function():\n",
    "    x = 10\n",
    "    print(x)  # Output: 10\n",
    "\n",
    "my_function()\n",
    "print(x)  # Raises an error: NameError: name 'x' is not defined"
   ]
  },
  {
   "attachments": {},
   "cell_type": "markdown",
   "metadata": {},
   "source": [
    "#### 7. What is the concept of a return value? Is it possible to have a return value in an expression?"
   ]
  },
  {
   "attachments": {},
   "cell_type": "markdown",
   "metadata": {},
   "source": [
    "In Python, the concept of a return value refers to the value that a function can send back as its result. It allows a function to provide an output that can be used for further operations."
   ]
  },
  {
   "cell_type": "code",
   "execution_count": 3,
   "metadata": {},
   "outputs": [
    {
     "name": "stdout",
     "output_type": "stream",
     "text": [
      "12\n"
     ]
    }
   ],
   "source": [
    "def multiply(a, b):\n",
    "    return a * b\n",
    "\n",
    "result = multiply(3, 4)\n",
    "print(result)  # Output: 12"
   ]
  },
  {
   "attachments": {},
   "cell_type": "markdown",
   "metadata": {},
   "source": [
    "A return value can be used in expressions, such as calculations or assignments, to incorporate the function's result into further operations.\n",
    "\n",
    "In summary, a return value in Python is the value that a function sends back as its result, and it can be used within expressions for additional computations or assignments."
   ]
  },
  {
   "attachments": {},
   "cell_type": "markdown",
   "metadata": {},
   "source": [
    "#### 8. If a function does not have a return statement, what is the return value of a call to that function?"
   ]
  },
  {
   "attachments": {},
   "cell_type": "markdown",
   "metadata": {},
   "source": [
    "When a function completes its execution without encountering a return statement, Python automatically returns None as the default return value. None is a special built-in object in Python that represents the absence of a value."
   ]
  },
  {
   "cell_type": "code",
   "execution_count": 4,
   "metadata": {},
   "outputs": [
    {
     "name": "stdout",
     "output_type": "stream",
     "text": [
      "Hello, Alice\n",
      "None\n"
     ]
    }
   ],
   "source": [
    "def greet(name):\n",
    "    print(\"Hello, \" + name)\n",
    "\n",
    "result = greet(\"Alice\")\n",
    "print(result)  # Output: None"
   ]
  },
  {
   "attachments": {},
   "cell_type": "markdown",
   "metadata": {},
   "source": [
    "#### 9. How do you make a function variable refer to the global variable?"
   ]
  },
  {
   "attachments": {},
   "cell_type": "markdown",
   "metadata": {},
   "source": [
    "To make a function variable refer to the global variable in Python, you can use the global keyword before the variable name inside the function. This informs Python that the variable you are referring to is a global variable rather than a local variable within the function's scope."
   ]
  },
  {
   "cell_type": "code",
   "execution_count": 5,
   "metadata": {},
   "outputs": [
    {
     "name": "stdout",
     "output_type": "stream",
     "text": [
      "20\n",
      "20\n"
     ]
    }
   ],
   "source": [
    "x = 10  # Global variable\n",
    "\n",
    "def my_function():\n",
    "    global x  # Declare 'x' as a global variable\n",
    "    x = 20   # Modify the global variable value\n",
    "    print(x)  # Output: 20\n",
    "\n",
    "my_function()\n",
    "print(x)  # Output: 20"
   ]
  },
  {
   "attachments": {},
   "cell_type": "markdown",
   "metadata": {},
   "source": [
    "#### 10. What is the data type of None?"
   ]
  },
  {
   "attachments": {},
   "cell_type": "markdown",
   "metadata": {},
   "source": [
    "The data type of None in Python is NoneType. It represents the absence of a value or the lack of any meaningful object."
   ]
  },
  {
   "attachments": {},
   "cell_type": "markdown",
   "metadata": {},
   "source": [
    "#### 11. What does the sentence import are all your pets named eric do?"
   ]
  },
  {
   "attachments": {},
   "cell_type": "markdown",
   "metadata": {},
   "source": [
    "The sentence \"import are all your pets named Eric\" does not have a specific meaning or purpose in Python. It is not a valid Python statement or syntax.\n",
    "\n",
    "In Python, the import keyword is used to import modules or packages, allowing you to access their functions, classes, or variables in your code. The sentence you provided does not follow the correct syntax for importing modules.\n",
    "\n",
    "It seems like a random sentence rather than a valid Python instruction. Python statements are typically structured and follow specific rules and conventions to perform specific actions or operations in the code."
   ]
  },
  {
   "attachments": {},
   "cell_type": "markdown",
   "metadata": {},
   "source": [
    "#### 12. If you had a bacon() feature in a spam module, what would you call it after importing spam?"
   ]
  },
  {
   "attachments": {},
   "cell_type": "markdown",
   "metadata": {},
   "source": [
    "After importing the spam module in Python, you can access the bacon() feature by calling it using the following syntax: spam.bacon()"
   ]
  },
  {
   "cell_type": "code",
   "execution_count": null,
   "metadata": {},
   "outputs": [],
   "source": [
    "import spam\n",
    "\n",
    "spam.bacon()  # Calling the bacon() feature from the spam module"
   ]
  },
  {
   "attachments": {},
   "cell_type": "markdown",
   "metadata": {},
   "source": [
    "#### 13. What can you do to save a programme from crashing if it encounters an error?"
   ]
  },
  {
   "attachments": {},
   "cell_type": "markdown",
   "metadata": {},
   "source": [
    "\n",
    "To save a program from crashing when it encounters an error in Python, you can use exception handling techniques. This involves wrapping potentially problematic code in a try-except block to catch and handle exceptions gracefully. Additionally, implementing input validation and logging errors can help prevent crashes and provide valuable information for debugging."
   ]
  },
  {
   "attachments": {},
   "cell_type": "markdown",
   "metadata": {},
   "source": [
    "#### 14. What is the purpose of the try clause? What is the purpose of the except clause?"
   ]
  },
  {
   "attachments": {},
   "cell_type": "markdown",
   "metadata": {},
   "source": [
    "The purpose of the try clause in Python is to enclose code that may raise an exception. It allows you to protect potentially problematic code from causing the program to crash.\n",
    "\n",
    "The purpose of the except clause is to define how to handle specific exceptions that occur within the try block. It provides a block of code to execute when a particular exception is raised, allowing you to gracefully handle errors and take appropriate actions."
   ]
  },
  {
   "attachments": {},
   "cell_type": "markdown",
   "metadata": {},
   "source": []
  }
 ],
 "metadata": {
  "kernelspec": {
   "display_name": "Python 3",
   "language": "python",
   "name": "python3"
  },
  "language_info": {
   "codemirror_mode": {
    "name": "ipython",
    "version": 3
   },
   "file_extension": ".py",
   "mimetype": "text/x-python",
   "name": "python",
   "nbconvert_exporter": "python",
   "pygments_lexer": "ipython3",
   "version": "3.10.9"
  },
  "orig_nbformat": 4
 },
 "nbformat": 4,
 "nbformat_minor": 2
}
