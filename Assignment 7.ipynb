{
 "cells": [
  {
   "attachments": {},
   "cell_type": "markdown",
   "metadata": {},
   "source": [
    "##### Q.1. Create two int type variables, apply addition, subtraction, division and multiplications and store the results in variables. Then print the data in the following format by calling the<br> variables:<br> First variable is __ & second variable is __.<br> Addition: __ + __ = __<br> Subtraction: __ - __ = __<br> Multiplication: __ * __ = __<br> Division: __ / __ = __"
   ]
  },
  {
   "cell_type": "code",
   "execution_count": 1,
   "metadata": {},
   "outputs": [
    {
     "name": "stdout",
     "output_type": "stream",
     "text": [
      "First variable is 10 & second variable is 5\n",
      "Addition: 10 + 5 = 15\n",
      "Subtraction: 10 - 5 = 5\n",
      "Multiplication: 10 * 5 = 50\n",
      "Division: 10 / 5 = 2.0\n"
     ]
    }
   ],
   "source": [
    "# Create two int variables\n",
    "num1 = 10\n",
    "num2 = 5\n",
    "\n",
    "# Perform arithmetic operations and store the results\n",
    "addition = num1 + num2\n",
    "subtraction = num1 - num2\n",
    "multiplication = num1 * num2\n",
    "division = num1 / num2\n",
    "\n",
    "# Print the results in the desired format\n",
    "print(\"First variable is\", num1, \"& second variable is\", num2)\n",
    "print(\"Addition:\", num1, \"+\", num2, \"=\", addition)\n",
    "print(\"Subtraction:\", num1, \"-\", num2, \"=\", subtraction)\n",
    "print(\"Multiplication:\", num1, \"*\", num2, \"=\", multiplication)\n",
    "print(\"Division:\", num1, \"/\", num2, \"=\", division)"
   ]
  },
  {
   "attachments": {},
   "cell_type": "markdown",
   "metadata": {},
   "source": [
    "##### Q.2. What is the difference between the following operators:<br>(i) ‘/’ & ‘//’<br>(ii) ‘**’ & ‘^’"
   ]
  },
  {
   "attachments": {},
   "cell_type": "markdown",
   "metadata": {},
   "source": [
    "(i) The operators '/' and '//' are used for division in Python, but they have different behaviors."
   ]
  },
  {
   "cell_type": "code",
   "execution_count": 2,
   "metadata": {},
   "outputs": [
    {
     "name": "stdout",
     "output_type": "stream",
     "text": [
      "3.3333333333333335\n",
      "3\n"
     ]
    }
   ],
   "source": [
    "# '/' (slash) operator performs normal division and returns a float result. For example:\n",
    "result = 10 / 3\n",
    "print(result)  # Output: 3.3333333333333335\n",
    "\n",
    "# '//' (double slash) operator performs floor division and returns the largest integer less than or equal to the division result. It discards the decimal part of the division. For example:\n",
    "\n",
    "result = 10 // 3\n",
    "print(result)  # Output: 3"
   ]
  },
  {
   "attachments": {},
   "cell_type": "markdown",
   "metadata": {},
   "source": [
    "(ii) The operators '**' and '^' are used for exponentiation, but they have different meanings."
   ]
  },
  {
   "cell_type": "code",
   "execution_count": 3,
   "metadata": {},
   "outputs": [
    {
     "name": "stdout",
     "output_type": "stream",
     "text": [
      "8\n"
     ]
    }
   ],
   "source": [
    "# '**' (double asterisk) operator is used for exponentiation and raises the left operand to the power of the right operand. For example:\n",
    "result = 2 ** 3\n",
    "print(result)  # Output: 8\n",
    "\n",
    "#'^' (caret) operator is not used for exponentiation in Python. It is the bitwise XOR operator that performs bitwise exclusive OR on the operands."
   ]
  },
  {
   "attachments": {},
   "cell_type": "markdown",
   "metadata": {},
   "source": [
    "Q.3. List the logical operators."
   ]
  },
  {
   "attachments": {},
   "cell_type": "markdown",
   "metadata": {},
   "source": [
    "\n",
    "The logical operators in Python are: and, or, and not.\n",
    "\n",
    "- and - The logical AND operator returns True if both operands are True, otherwise, it returns False.\n",
    "- or - The logical OR operator returns True if at least one of the operands is True, otherwise, it returns False.\n",
    "- not - The logical NOT operator negates the truth value of the operand. It returns True if the operand is False, and False if the operand is True."
   ]
  },
  {
   "attachments": {},
   "cell_type": "markdown",
   "metadata": {},
   "source": [
    "#### Q.4. Explain right shift operator and left shift operator with examples."
   ]
  },
  {
   "attachments": {},
   "cell_type": "markdown",
   "metadata": {},
   "source": [
    "- Right Shift Operator (>>):\n",
    "\n",
    "The right shift operator shifts the bits of a number to the right by a specified number of positions.\n",
    "The rightmost bits are discarded, and the leftmost bits are filled with zeros.\n",
    "Each shift to the right is equivalent to dividing the number by 2.\n",
    "The syntax for the right shift operator is number >> n, where number is the value to be shifted and n is the number of positions to shift."
   ]
  },
  {
   "cell_type": "code",
   "execution_count": 4,
   "metadata": {},
   "outputs": [
    {
     "name": "stdout",
     "output_type": "stream",
     "text": [
      "4\n"
     ]
    }
   ],
   "source": [
    "# Right Shift Operator Example:\n",
    "number = 16\n",
    "result = number >> 2\n",
    "print(result)  # Output: 4"
   ]
  },
  {
   "attachments": {},
   "cell_type": "markdown",
   "metadata": {},
   "source": [
    "- Left Shift Operator (<<):\n",
    "\n",
    "The left shift operator shifts the bits of a number to the left by a specified number of positions.\n",
    "The rightmost bits are filled with zeros, and the leftmost bits are discarded.\n",
    "Each shift to the left is equivalent to multiplying the number by 2.\n",
    "The syntax for the left shift operator is number << n, where number is the value to be shifted and n is the number of positions to shift."
   ]
  },
  {
   "cell_type": "code",
   "execution_count": 6,
   "metadata": {},
   "outputs": [
    {
     "name": "stdout",
     "output_type": "stream",
     "text": [
      "12\n"
     ]
    }
   ],
   "source": [
    "# Left Shift Operator Example:\n",
    "number = 3\n",
    "result = number << 2\n",
    "print(result)  # Output: 12"
   ]
  },
  {
   "attachments": {},
   "cell_type": "markdown",
   "metadata": {},
   "source": [
    "#### Q.5. Create a list containing int type data of length 15. Then write a code to check if 10 is present in the list or not."
   ]
  },
  {
   "cell_type": "code",
   "execution_count": 7,
   "metadata": {},
   "outputs": [
    {
     "name": "stdout",
     "output_type": "stream",
     "text": [
      "10 is present in the list.\n"
     ]
    }
   ],
   "source": [
    "my_list = [2, 4, 6, 8, 10, 12, 14, 16, 18, 20, 22, 24, 26, 28, 30]\n",
    "\n",
    "if 10 in my_list:\n",
    "    print(\"10 is present in the list.\")\n",
    "else:\n",
    "    print(\"10 is not present in the list.\")"
   ]
  }
 ],
 "metadata": {
  "kernelspec": {
   "display_name": "Python 3",
   "language": "python",
   "name": "python3"
  },
  "language_info": {
   "codemirror_mode": {
    "name": "ipython",
    "version": 3
   },
   "file_extension": ".py",
   "mimetype": "text/x-python",
   "name": "python",
   "nbconvert_exporter": "python",
   "pygments_lexer": "ipython3",
   "version": "3.10.9"
  },
  "orig_nbformat": 4
 },
 "nbformat": 4,
 "nbformat_minor": 2
}
