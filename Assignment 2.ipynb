{
 "cells": [
  {
   "attachments": {},
   "cell_type": "markdown",
   "metadata": {},
   "source": [
    "#### 1.What are the two values of the Boolean data type? How do you write them?"
   ]
  },
  {
   "attachments": {},
   "cell_type": "markdown",
   "metadata": {},
   "source": [
    "- True: The boolean value representing true is written as \"True\" (with an uppercase 'T').\n",
    "- False: The boolean value representing false is written as \"False\" (with an uppercase 'F')."
   ]
  },
  {
   "attachments": {},
   "cell_type": "markdown",
   "metadata": {},
   "source": [
    "#### 2.What are the three different types of Boolean operators?"
   ]
  },
  {
   "attachments": {},
   "cell_type": "markdown",
   "metadata": {},
   "source": [
    "- AND Operator: The AND operator in Python is represented by the keyword \"and\". It returns true if both operands are true, and false otherwise.\n",
    "- OR Operator: The OR operator in Python is represented by the keyword \"or\". It returns true if at least one of the operands is true, and false otherwise.\n",
    "- NOT Operator: The NOT operator in Python is represented by the keyword \"not\". It negates the boolean value of its operand. It returns true if the operand is false, and false if the operand is true."
   ]
  },
  {
   "attachments": {},
   "cell_type": "markdown",
   "metadata": {},
   "source": [
    "#### 3.Make a list of each Boolean operator&#39;s truth tables (i.e. every possible combination of Boolean values for the operator and what it evaluate )."
   ]
  },
  {
   "attachments": {},
   "cell_type": "markdown",
   "metadata": {},
   "source": [
    "- <pre> AND Operator (and):\n",
    "| Operand 1 | Operand 2 | Result |\n",
    "|-----------|-----------|--------|\n",
    "|   <div style=\"color:red;\">False</div>   |   <div style=\"color:red;\">False</div>   | <div style=\"color:red;\">False</div>  |\n",
    "|   <div style=\"color:red;\">False</div>   |   <div style=\"color:yellowgreen;\">True</div>    | <div style=\"color:red;\">False</div>  |\n",
    "|   <div style=\"color:yellowgreen;\">True</div>    |   <div style=\"color:red;\">False</div>   | <div style=\"color:red;\">False</div>  |\n",
    "|   <div style=\"color:yellowgreen;\">True</div>    |   <div style=\"color:yellowgreen;\">True</div>    | <div style=\"color:yellowgreen;\">True</div>   |</pre>"
   ]
  },
  {
   "attachments": {},
   "cell_type": "markdown",
   "metadata": {},
   "source": [
    "- <pre>OR Operator (or):\n",
    "| Operand 1 | Operand 2 | Result |\n",
    "|-----------|-----------|--------|\n",
    "|   <div style=\"color:red;\">False</div>   |   <div style=\"color:red;\">False</div>   | <div style=\"color:red;\">False</div>  |\n",
    "|   <div style=\"color:red;\">False</div>   |   <div style=\"color:yellowgreen;\">True</div>    | <div style=\"color:yellowgreen;\">True</div>   |\n",
    "|   <div style=\"color:yellowgreen;\">True</div>    |   <div style=\"color:red;\">False</div>   | <div style=\"color:yellowgreen;\">True</div>   |\n",
    "|   <div style=\"color:yellowgreen;\">True</div>    |   <div style=\"color:yellowgreen;\">True</div>    | <div style=\"color:yellowgreen;\">True</div>   |</pre>"
   ]
  },
  {
   "attachments": {},
   "cell_type": "markdown",
   "metadata": {},
   "source": [
    "- <pre>NOT Operator (not):\n",
    "| Operand | Result |\n",
    "|---------|--------|\n",
    "|  <div style=\"color:red;\">False</div>  |  <div style=\"color:yellowgreen;\">True</div>  |\n",
    "|  <div style=\"color:yellowgreen;\">True</div>   | <div style=\"color:red;\">False</div>  |</pre>"
   ]
  },
  {
   "attachments": {},
   "cell_type": "markdown",
   "metadata": {},
   "source": [
    "##### 4.What are the values of the following expressions? <br> (5 &gt; 4) and (3 == 5) <br> not (5 &gt; 4) <br> (5 &gt; 4) or (3 == 5) <br> not ((5 &gt; 4) or (3 == 5)) <br> (True and True) and (True == False) <br> (not False) or (not True)"
   ]
  },
  {
   "cell_type": "code",
   "execution_count": 14,
   "metadata": {},
   "outputs": [
    {
     "name": "stdout",
     "output_type": "stream",
     "text": [
      "False\n",
      "False\n",
      "True\n",
      "False\n",
      "False\n",
      "True\n"
     ]
    }
   ],
   "source": [
    "a = 5>4 and 3==5 \n",
    "b = not(5>4)\n",
    "c = 5>4 or 3==5 \n",
    "d = not((5>4) or (3==5))\n",
    "e = (True and True) and (True == False) \n",
    "f = (not False) or (not True)\n",
    "print(a)\n",
    "print(b)\n",
    "print(c)\n",
    "print(d)\n",
    "print(e)\n",
    "print(f)"
   ]
  },
  {
   "attachments": {},
   "cell_type": "markdown",
   "metadata": {},
   "source": [
    "#### 5.What are the six comparison operators?"
   ]
  },
  {
   "attachments": {},
   "cell_type": "markdown",
   "metadata": {},
   "source": [
    "\n",
    "Apologies for the confusion. In Python, the six comparison operators are:\n",
    "\n",
    "- Equal to (==): It checks if two operands are equal and returns True if they are equal, and False otherwise.\n",
    "\n",
    "- Not equal to (!=): It checks if two operands are not equal and returns True if they are not equal, and False if they are equal.\n",
    "\n",
    "- Greater than (>): It checks if the left operand is greater than the right operand and returns True if it is, and False otherwise.\n",
    "\n",
    "- Less than (<): It checks if the left operand is less than the right operand and returns True if it is, and False otherwise.\n",
    "\n",
    "- Greater than or equal to (>=): It checks if the left operand is greater than or equal to the right operand and returns True if it is, and False otherwise.\n",
    "\n",
    "- Less than or equal to (<=): It checks if the left operand is less than or equal to the right operand and returns True if it is, and False otherwise."
   ]
  },
  {
   "attachments": {},
   "cell_type": "markdown",
   "metadata": {},
   "source": [
    "#### 6.How do you tell the difference between the equal to and assignment operators?Describe a condition and when you would use one."
   ]
  },
  {
   "attachments": {},
   "cell_type": "markdown",
   "metadata": {},
   "source": [
    "\n",
    "In Python, the equal to operator (==) and assignment operator (=) serve different purposes and have distinct functions:\n",
    "- Equal to operator (==): The double equals sign (==) is used as a comparison operator to check if two values are equal. It returns True if the values are equal and False if they are not. For example:"
   ]
  },
  {
   "cell_type": "code",
   "execution_count": 15,
   "metadata": {},
   "outputs": [
    {
     "name": "stdout",
     "output_type": "stream",
     "text": [
      "x and y are not equal\n"
     ]
    }
   ],
   "source": [
    "x = 5\n",
    "y = 3\n",
    "\n",
    "if x == y:\n",
    "    print(\"x and y are equal\")\n",
    "else:\n",
    "    print(\"x and y are not equal\")"
   ]
  },
  {
   "attachments": {},
   "cell_type": "markdown",
   "metadata": {},
   "source": [
    "In this example, the condition x == y checks if the value of x is equal to the value of y. If they are equal, it will print \"x and y are equal\"; otherwise, it will print \"x and y are not equal\"."
   ]
  },
  {
   "attachments": {},
   "cell_type": "markdown",
   "metadata": {},
   "source": [
    "- Assignment operator (=): The single equals sign (=) is used as an assignment operator to assign a value to a variable. It assigns the value on the right-hand side to the variable on the left-hand side. For example:"
   ]
  },
  {
   "cell_type": "code",
   "execution_count": 16,
   "metadata": {},
   "outputs": [],
   "source": [
    "x = 5"
   ]
  },
  {
   "attachments": {},
   "cell_type": "markdown",
   "metadata": {},
   "source": [
    "In this example, the value of 5 is assigned to the variable x. After this assignment, x will hold the value 5.\n",
    "\n",
    "It's important to note that the assignment operator (=) is used to assign values to variables, whereas the equal to operator (==) is used to compare values for equality.\n",
    "\n",
    "In summary, the equal to operator (==) is used to compare values for equality in conditions, while the assignment operator (=) is used to assign values to variables."
   ]
  },
  {
   "attachments": {},
   "cell_type": "markdown",
   "metadata": {},
   "source": [
    "#### 7.Identify the three blocks in this code: <br> spam = 0 <br> if spam == 10: <br> print(&#39;eggs&#39;) <br> if spam &gt; 5: <br> print(&#39;bacon&#39;) <br> else: <br> print(&#39;ham&#39;) <br> print(&#39;spam&#39;) <br> print(&#39;spam&#39;)"
   ]
  },
  {
   "cell_type": "code",
   "execution_count": 17,
   "metadata": {},
   "outputs": [
    {
     "name": "stdout",
     "output_type": "stream",
     "text": [
      "ham\n",
      "spam\n",
      "spam\n"
     ]
    }
   ],
   "source": [
    "spam = 0\n",
    "if spam == 10:\n",
    "    print('eggs')\n",
    "if spam > 5:\n",
    "    print('bacon')\n",
    "else:\n",
    "    print(\"ham\")\n",
    "    print(\"spam\")\n",
    "    print(\"spam\")"
   ]
  },
  {
   "attachments": {},
   "cell_type": "markdown",
   "metadata": {},
   "source": [
    "#### 8.Write code that prints Hello if 1 is stored in spam, prints Howdy if 2 is stored in spam, and prints Greetings! if anything else is stored in spam."
   ]
  },
  {
   "cell_type": "code",
   "execution_count": 18,
   "metadata": {},
   "outputs": [
    {
     "name": "stdout",
     "output_type": "stream",
     "text": [
      "Hello\n"
     ]
    }
   ],
   "source": [
    "spam = 1\n",
    "\n",
    "if spam == 1:\n",
    "    print(\"Hello\")\n",
    "elif spam == 2:\n",
    "    print(\"Howdy\")\n",
    "else:\n",
    "    print(\"Greetings!\")"
   ]
  },
  {
   "attachments": {},
   "cell_type": "markdown",
   "metadata": {},
   "source": [
    "#### 9.If your programme is stuck in an endless loop, what keys you’ll press?"
   ]
  },
  {
   "attachments": {},
   "cell_type": "markdown",
   "metadata": {},
   "source": [
    "If your program is stuck in an endless loop and you want to interrupt its execution, you can typically press the keyboard combination \"Ctrl + C\" (the \"Ctrl\" key and the \"C\" key pressed simultaneously). This key combination is commonly used to send an interrupt signal to the running program, causing it to terminate."
   ]
  },
  {
   "attachments": {},
   "cell_type": "markdown",
   "metadata": {},
   "source": [
    "#### 10.How can you tell the difference between break and continue?"
   ]
  },
  {
   "attachments": {},
   "cell_type": "markdown",
   "metadata": {},
   "source": [
    "Here's a concise explanation of the difference between the break and continue statements in Python:\n",
    "\n",
    "- break statement: When encountered, it immediately terminates the innermost loop and resumes execution at the next statement outside the loop.\n",
    "\n",
    "- continue statement: When encountered, it skips the rest of the current iteration and moves on to the next iteration of the loop."
   ]
  },
  {
   "attachments": {},
   "cell_type": "markdown",
   "metadata": {},
   "source": [
    "#### 11.In a for loop, what is the difference between range(10), range(0, 10), and range(0, 10, 1)?"
   ]
  },
  {
   "attachments": {},
   "cell_type": "markdown",
   "metadata": {},
   "source": [
    "- range(10): It generates numbers from 0 to 9, incrementing by 1.\n",
    "\n",
    "- range(0, 10): It also generates numbers from 0 to 9, incrementing by 1. The starting point (0) is explicitly specified.\n",
    "\n",
    "- range(0, 10, 1): It produces the same sequence as the previous two examples: numbers from 0 to 9, incrementing by 1. The starting point (0) and increment (1) are explicitly specified, but they are the default values and can be omitted.\n",
    "\n",
    "All three versions of the range function will generate the same sequence of numbers from 0 to 9, which can be used in a for loop for iteration."
   ]
  },
  {
   "attachments": {},
   "cell_type": "markdown",
   "metadata": {},
   "source": [
    "#### 12.Write a short program that prints the numbers 1 to 10 using a for loop. Then write an equivalent program that prints the numbers 1 to 10 using a while loop."
   ]
  },
  {
   "cell_type": "code",
   "execution_count": 19,
   "metadata": {},
   "outputs": [
    {
     "name": "stdout",
     "output_type": "stream",
     "text": [
      "1\n",
      "2\n",
      "3\n",
      "4\n",
      "5\n",
      "6\n",
      "7\n",
      "8\n",
      "9\n",
      "10\n"
     ]
    }
   ],
   "source": [
    "# Using a for loop\n",
    "for i in range(1, 11):\n",
    "    print(i)"
   ]
  },
  {
   "cell_type": "code",
   "execution_count": 20,
   "metadata": {},
   "outputs": [
    {
     "name": "stdout",
     "output_type": "stream",
     "text": [
      "1\n",
      "2\n",
      "3\n",
      "4\n",
      "5\n",
      "6\n",
      "7\n",
      "8\n",
      "9\n",
      "10\n"
     ]
    }
   ],
   "source": [
    "# Using a while loop\n",
    "i = 1\n",
    "while i <= 10:\n",
    "    print(i)\n",
    "    i += 1"
   ]
  },
  {
   "attachments": {},
   "cell_type": "markdown",
   "metadata": {},
   "source": [
    "#### 13.If you had a function named bacon() inside a module named spam, how would you call it after importing spam?"
   ]
  },
  {
   "attachments": {},
   "cell_type": "markdown",
   "metadata": {},
   "source": [
    "Here's an example of how you can call the bacon() function after importing the spam module:"
   ]
  },
  {
   "cell_type": "code",
   "execution_count": 21,
   "metadata": {},
   "outputs": [
    {
     "ename": "ModuleNotFoundError",
     "evalue": "No module named 'spam'",
     "output_type": "error",
     "traceback": [
      "\u001b[1;31m---------------------------------------------------------------------------\u001b[0m",
      "\u001b[1;31mModuleNotFoundError\u001b[0m                       Traceback (most recent call last)",
      "Cell \u001b[1;32mIn[21], line 1\u001b[0m\n\u001b[1;32m----> 1\u001b[0m \u001b[39mimport\u001b[39;00m \u001b[39mspam\u001b[39;00m\n\u001b[0;32m      3\u001b[0m spam\u001b[39m.\u001b[39mbacon()\n",
      "\u001b[1;31mModuleNotFoundError\u001b[0m: No module named 'spam'"
     ]
    }
   ],
   "source": [
    "import spam\n",
    "\n",
    "spam.bacon()"
   ]
  },
  {
   "cell_type": "code",
   "execution_count": null,
   "metadata": {},
   "outputs": [],
   "source": []
  }
 ],
 "metadata": {
  "kernelspec": {
   "display_name": "Python 3",
   "language": "python",
   "name": "python3"
  },
  "language_info": {
   "codemirror_mode": {
    "name": "ipython",
    "version": 3
   },
   "file_extension": ".py",
   "mimetype": "text/x-python",
   "name": "python",
   "nbconvert_exporter": "python",
   "pygments_lexer": "ipython3",
   "version": "3.10.9"
  },
  "orig_nbformat": 4
 },
 "nbformat": 4,
 "nbformat_minor": 2
}
