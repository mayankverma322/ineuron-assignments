{
 "cells": [
  {
   "attachments": {},
   "cell_type": "markdown",
   "metadata": {},
   "source": [
    "#### Q.1. What are keywords in python? Using the keyword library, print all the python keywords."
   ]
  },
  {
   "cell_type": "code",
   "execution_count": 1,
   "metadata": {},
   "outputs": [
    {
     "name": "stdout",
     "output_type": "stream",
     "text": [
      "['False', 'None', 'True', 'and', 'as', 'assert', 'async', 'await', 'break', 'class', 'continue', 'def', 'del', 'elif', 'else', 'except', 'finally', 'for', 'from', 'global', 'if', 'import', 'in', 'is', 'lambda', 'nonlocal', 'not', 'or', 'pass', 'raise', 'return', 'try', 'while', 'with', 'yield']\n"
     ]
    }
   ],
   "source": [
    "import keyword\n",
    "\n",
    "all_keywords = keyword.kwlist\n",
    "print(all_keywords)"
   ]
  },
  {
   "attachments": {},
   "cell_type": "markdown",
   "metadata": {},
   "source": [
    "#### Q.2. What are the rules to create variables in python?"
   ]
  },
  {
   "attachments": {},
   "cell_type": "markdown",
   "metadata": {},
   "source": [
    "In Python, variables are used to store values and provide a way to refer to those values by a name. Here are the rules to create variables in Python:\n",
    "\n",
    "- Variable names must start with a letter (a-z, A-Z) or an underscore (_). They cannot start with a number.\n",
    "- Variable names can contain letters, numbers, and underscores. They are case-sensitive, so myVariable and myvariable are considered different variables.\n",
    "- Variable names cannot be the same as Python keywords. Keywords are reserved words with predefined meanings in Python.\n",
    "- Variable names should be descriptive and meaningful, giving an indication of the value or data they represent.\n",
    "- It is a best practice to use lowercase letters for variable names, with words separated by underscores (snake_case) for better readability.\n",
    "- Avoid using special characters like !, @, #, $, %, etc. in variable names, as they are not allowed.\n",
    "- Variables should not have leading or trailing spaces in their names.\n",
    "- Avoid using built-in names or names of existing functions, modules, or classes as variable names to prevent conflicts."
   ]
  },
  {
   "attachments": {},
   "cell_type": "markdown",
   "metadata": {},
   "source": [
    "Q.3. What are the standards and conventions followed for the nomenclature of variables in\n",
    "python to improve code readability and maintainability?"
   ]
  },
  {
   "attachments": {},
   "cell_type": "markdown",
   "metadata": {},
   "source": [
    "To improve code readability and maintainability in Python, follow these standards and conventions:\n",
    "\n",
    "- Use descriptive and meaningful names.\n",
    "- Use lowercase letters and separate words with underscores (snake_case).\n",
    "- Avoid using reserved keywords.\n",
    "- Be consistent with naming conventions.\n",
    "- Use meaningful abbreviations when necessary.\n",
    "- Avoid using single underscores at the beginning or end of variable names.\n",
    "- Follow the guidelines outlined in PEP 8, the official Python style guide. \n",
    "\n",
    "<br>Following these standards will make your code easier to read, understand, and maintain."
   ]
  },
  {
   "attachments": {},
   "cell_type": "markdown",
   "metadata": {},
   "source": [
    "#### Q.4. What will happen if a keyword is used as a variable name?"
   ]
  },
  {
   "attachments": {},
   "cell_type": "markdown",
   "metadata": {},
   "source": [
    "if a keyword is used as a variable name in Python, it is considered an invalid syntax and will result in a syntax error. Keywords have special meanings in Python and are reserved for specific purposes, so they cannot be used as identifiers for variables or other objects. Python's interpreter will recognize the keyword and raise an error to indicate that it cannot be used as a variable name. It is important to choose different names for variables to avoid conflicts with keywords and ensure the code runs without errors."
   ]
  },
  {
   "attachments": {},
   "cell_type": "markdown",
   "metadata": {},
   "source": [
    "#### Q.5. For what purpose def keyword is used?"
   ]
  },
  {
   "attachments": {},
   "cell_type": "markdown",
   "metadata": {},
   "source": [
    "The def keyword in Python is used to define a function. It is followed by the function name and a set of parentheses, which may contain parameters for the function. The function definition is then followed by a colon (:) and an indented block of code that makes up the function body."
   ]
  },
  {
   "cell_type": "code",
   "execution_count": 2,
   "metadata": {},
   "outputs": [
    {
     "name": "stdout",
     "output_type": "stream",
     "text": [
      "Hello, Alice!\n"
     ]
    }
   ],
   "source": [
    "# Here's an example that demonstrates the usage of the def keyword to define a function:\n",
    "\n",
    "def greet(name):\n",
    "    print(\"Hello, \" + name + \"!\")\n",
    "\n",
    "# Function call\n",
    "greet(\"Alice\")"
   ]
  },
  {
   "attachments": {},
   "cell_type": "markdown",
   "metadata": {},
   "source": [
    "#### Q.6. What is the operation of this special character ‘\\’?"
   ]
  },
  {
   "cell_type": "code",
   "execution_count": 3,
   "metadata": {},
   "outputs": [
    {
     "name": "stdout",
     "output_type": "stream",
     "text": [
      "Hello\n",
      "World\n",
      "I'm a programmer\n",
      "Unicode smiley face: ☺\n"
     ]
    }
   ],
   "source": [
    "print(\"Hello\\nWorld\")\n",
    "print(\"I\\'m a programmer\")\n",
    "print(\"Unicode smiley face: \\u263A\")"
   ]
  },
  {
   "attachments": {},
   "cell_type": "markdown",
   "metadata": {},
   "source": [
    "In this example, the backslash is used to create a newline character ('\\n') in the first print statement, escape the single quote character in the second print statement, and represent a Unicode character (smiley face) using its hexadecimal representation in the third print statement.\n",
    "\n",
    "The backslash '' is an escape character that allows you to include special characters, escape sequences, and Unicode representations in Python strings."
   ]
  },
  {
   "attachments": {},
   "cell_type": "markdown",
   "metadata": {},
   "source": [
    "#### Q.7. Give an example of the following conditions:<br>(i) Homogeneous list<br>(ii) Heterogeneous set<br>(iii) Homogeneous tuple"
   ]
  },
  {
   "cell_type": "code",
   "execution_count": 5,
   "metadata": {},
   "outputs": [],
   "source": [
    "# (i) Homogeneous list: A homogeneous list is a list where all the elements have the same data type. Here's an example of a homogeneous list containing integers:\n",
    "\n",
    "numbers = [1, 2, 3, 4, 5]\n",
    "\n",
    "# (ii) Heterogeneous set: A heterogeneous set is a set where the elements can have different data types. Here's an example of a heterogeneous set:\n",
    "\n",
    "my_set = {1, 'apple', 3.14, True}\n",
    "\n",
    "# (iii) Homogeneous tuple: A homogeneous tuple is a tuple where all the elements have the same data type. Here's an example of a homogeneous tuple containing strings:\n",
    "\n",
    "fruits = ('apple', 'banana', 'orange', 'mango')"
   ]
  },
  {
   "attachments": {},
   "cell_type": "markdown",
   "metadata": {},
   "source": [
    "#### Q.8. Explain the mutable and immutable data types with proper explanation & examples."
   ]
  },
  {
   "attachments": {},
   "cell_type": "markdown",
   "metadata": {},
   "source": [
    "<b>Mutable Data Types:</b>\n",
    "Mutable data types are those whose values can be modified or changed after they are created. This means that you can update, add, or remove elements from these data types without creating a new instance. Some examples of mutable data types in Python are lists, sets, and dictionaries.\n",
    "\n",
    "Example of a mutable data type (list):"
   ]
  },
  {
   "cell_type": "code",
   "execution_count": 6,
   "metadata": {},
   "outputs": [
    {
     "name": "stdout",
     "output_type": "stream",
     "text": [
      "[1, 2, 3, 4]\n"
     ]
    }
   ],
   "source": [
    "my_list = [1, 2, 3]\n",
    "my_list.append(4)    # Modifying the existing list\n",
    "print(my_list)       # Output: [1, 2, 3, 4]\n",
    "\n",
    "# In the above example, the list 'my_list' is mutable. We can add a new element to the list using the append() method, modifying the existing list without creating a new one."
   ]
  },
  {
   "attachments": {},
   "cell_type": "markdown",
   "metadata": {},
   "source": [
    "<b>Immutable Data Types:</b>\n",
    "Immutable data types, on the other hand, are those whose values cannot be changed once they are created. If you want to modify the value of an immutable data type, you need to create a new instance with the modified value. Examples of immutable data types in Python include strings, tuples, and numeric types (integers, floats, etc.).\n",
    "\n",
    "Example of an immutable data type (string):"
   ]
  },
  {
   "cell_type": "code",
   "execution_count": 7,
   "metadata": {},
   "outputs": [
    {
     "name": "stdout",
     "output_type": "stream",
     "text": [
      "Hello World\n"
     ]
    }
   ],
   "source": [
    "my_string = \"Hello\"\n",
    "my_string = my_string + \" World\"    # Creating a new string instance\n",
    "print(my_string)                    # Output: \"Hello World\"\n",
    "# In the above example, the string 'my_string' is immutable. When we concatenate it with another string using the + operator, it creates a new string instance with the combined value instead of modifying the original string."
   ]
  },
  {
   "attachments": {},
   "cell_type": "markdown",
   "metadata": {},
   "source": [
    "#### Q.9. Write a code to create the given structure using only for loop.<br> *<br> ***<br> *****<br> *******"
   ]
  },
  {
   "cell_type": "code",
   "execution_count": 11,
   "metadata": {},
   "outputs": [
    {
     "name": "stdout",
     "output_type": "stream",
     "text": [
      "☺ \n",
      "☺ ☺ \n",
      "☺ ☺ ☺ \n",
      "☺ ☺ ☺ ☺ \n"
     ]
    }
   ],
   "source": [
    "rows = 4\n",
    "\n",
    "for i in range(rows):\n",
    "    for j in range(i + 1):\n",
    "        print(\"\\u263A \", end=\"\")\n",
    "    print()"
   ]
  },
  {
   "attachments": {},
   "cell_type": "markdown",
   "metadata": {},
   "source": [
    "#### Q.10. Write a code to create the given structure using while loop.<br> |||||||||<br> |||||||<br> |||||<br> |||<br> |"
   ]
  },
  {
   "cell_type": "code",
   "execution_count": 12,
   "metadata": {},
   "outputs": [
    {
     "name": "stdout",
     "output_type": "stream",
     "text": [
      "|||||||||\n",
      "|||||||\n",
      "|||||\n",
      "|||\n",
      "|\n"
     ]
    }
   ],
   "source": [
    "rows = 5\n",
    "num_pipes = rows * 2 - 1\n",
    "\n",
    "while rows > 0:\n",
    "    print(\"|\" * num_pipes)\n",
    "    rows -= 1\n",
    "    num_pipes -= 2"
   ]
  }
 ],
 "metadata": {
  "kernelspec": {
   "display_name": "Python 3",
   "language": "python",
   "name": "python3"
  },
  "language_info": {
   "codemirror_mode": {
    "name": "ipython",
    "version": 3
   },
   "file_extension": ".py",
   "mimetype": "text/x-python",
   "name": "python",
   "nbconvert_exporter": "python",
   "pygments_lexer": "ipython3",
   "version": "3.10.9"
  },
  "orig_nbformat": 4
 },
 "nbformat": 4,
 "nbformat_minor": 2
}
